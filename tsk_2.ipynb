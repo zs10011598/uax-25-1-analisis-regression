{
 "cells": [
  {
   "cell_type": "code",
   "execution_count": 84,
   "id": "9ae577bd-8d41-4fb1-85c2-142727a1dca6",
   "metadata": {},
   "outputs": [],
   "source": [
    "import pandas as pd \n",
    "import numpy as np\n",
    "from sklearn.linear_model import LinearRegression\n",
    "from sklearn.model_selection import train_test_split\n",
    "from sklearn.metrics import r2_score"
   ]
  },
  {
   "cell_type": "markdown",
   "id": "5f651d90-b9a8-474f-bc53-8c17a42536f6",
   "metadata": {},
   "source": [
    "# 1."
   ]
  },
  {
   "cell_type": "code",
   "execution_count": 51,
   "id": "15215d6f-8421-46cb-aaf1-2fc3fffedf45",
   "metadata": {},
   "outputs": [
    {
     "data": {
      "text/html": [
       "<div>\n",
       "<style scoped>\n",
       "    .dataframe tbody tr th:only-of-type {\n",
       "        vertical-align: middle;\n",
       "    }\n",
       "\n",
       "    .dataframe tbody tr th {\n",
       "        vertical-align: top;\n",
       "    }\n",
       "\n",
       "    .dataframe thead th {\n",
       "        text-align: right;\n",
       "    }\n",
       "</style>\n",
       "<table border=\"1\" class=\"dataframe\">\n",
       "  <thead>\n",
       "    <tr style=\"text-align: right;\">\n",
       "      <th></th>\n",
       "      <th>Unnamed: 0</th>\n",
       "      <th>education</th>\n",
       "      <th>income</th>\n",
       "      <th>women</th>\n",
       "      <th>prestige</th>\n",
       "      <th>census</th>\n",
       "      <th>type</th>\n",
       "    </tr>\n",
       "  </thead>\n",
       "  <tbody>\n",
       "    <tr>\n",
       "      <th>0</th>\n",
       "      <td>gov.administrators</td>\n",
       "      <td>13.11</td>\n",
       "      <td>12351</td>\n",
       "      <td>11.16</td>\n",
       "      <td>68.8</td>\n",
       "      <td>1113</td>\n",
       "      <td>prof</td>\n",
       "    </tr>\n",
       "    <tr>\n",
       "      <th>1</th>\n",
       "      <td>general.managers</td>\n",
       "      <td>12.26</td>\n",
       "      <td>25879</td>\n",
       "      <td>4.02</td>\n",
       "      <td>69.1</td>\n",
       "      <td>1130</td>\n",
       "      <td>prof</td>\n",
       "    </tr>\n",
       "    <tr>\n",
       "      <th>2</th>\n",
       "      <td>accountants</td>\n",
       "      <td>12.77</td>\n",
       "      <td>9271</td>\n",
       "      <td>15.70</td>\n",
       "      <td>63.4</td>\n",
       "      <td>1171</td>\n",
       "      <td>prof</td>\n",
       "    </tr>\n",
       "    <tr>\n",
       "      <th>3</th>\n",
       "      <td>purchasing.officers</td>\n",
       "      <td>11.42</td>\n",
       "      <td>8865</td>\n",
       "      <td>9.11</td>\n",
       "      <td>56.8</td>\n",
       "      <td>1175</td>\n",
       "      <td>prof</td>\n",
       "    </tr>\n",
       "    <tr>\n",
       "      <th>4</th>\n",
       "      <td>chemists</td>\n",
       "      <td>14.62</td>\n",
       "      <td>8403</td>\n",
       "      <td>11.68</td>\n",
       "      <td>73.5</td>\n",
       "      <td>2111</td>\n",
       "      <td>prof</td>\n",
       "    </tr>\n",
       "  </tbody>\n",
       "</table>\n",
       "</div>"
      ],
      "text/plain": [
       "            Unnamed: 0  education  income  women  prestige  census  type\n",
       "0   gov.administrators      13.11   12351  11.16      68.8    1113  prof\n",
       "1     general.managers      12.26   25879   4.02      69.1    1130  prof\n",
       "2          accountants      12.77    9271  15.70      63.4    1171  prof\n",
       "3  purchasing.officers      11.42    8865   9.11      56.8    1175  prof\n",
       "4             chemists      14.62    8403  11.68      73.5    2111  prof"
      ]
     },
     "execution_count": 51,
     "metadata": {},
     "output_type": "execute_result"
    }
   ],
   "source": [
    "df = pd.read_csv('./Prestige.csv')\n",
    "df.head()"
   ]
  },
  {
   "cell_type": "code",
   "execution_count": 52,
   "id": "84324ad0-77c9-417a-aa9a-73077774affa",
   "metadata": {},
   "outputs": [
    {
     "data": {
      "text/html": [
       "<div>\n",
       "<style scoped>\n",
       "    .dataframe tbody tr th:only-of-type {\n",
       "        vertical-align: middle;\n",
       "    }\n",
       "\n",
       "    .dataframe tbody tr th {\n",
       "        vertical-align: top;\n",
       "    }\n",
       "\n",
       "    .dataframe thead th {\n",
       "        text-align: right;\n",
       "    }\n",
       "</style>\n",
       "<table border=\"1\" class=\"dataframe\">\n",
       "  <thead>\n",
       "    <tr style=\"text-align: right;\">\n",
       "      <th></th>\n",
       "      <th>education</th>\n",
       "      <th>income</th>\n",
       "      <th>women</th>\n",
       "      <th>prestige</th>\n",
       "      <th>census</th>\n",
       "    </tr>\n",
       "  </thead>\n",
       "  <tbody>\n",
       "    <tr>\n",
       "      <th>0</th>\n",
       "      <td>13.11</td>\n",
       "      <td>12351</td>\n",
       "      <td>11.16</td>\n",
       "      <td>68.8</td>\n",
       "      <td>1113</td>\n",
       "    </tr>\n",
       "    <tr>\n",
       "      <th>1</th>\n",
       "      <td>12.26</td>\n",
       "      <td>25879</td>\n",
       "      <td>4.02</td>\n",
       "      <td>69.1</td>\n",
       "      <td>1130</td>\n",
       "    </tr>\n",
       "    <tr>\n",
       "      <th>2</th>\n",
       "      <td>12.77</td>\n",
       "      <td>9271</td>\n",
       "      <td>15.70</td>\n",
       "      <td>63.4</td>\n",
       "      <td>1171</td>\n",
       "    </tr>\n",
       "    <tr>\n",
       "      <th>3</th>\n",
       "      <td>11.42</td>\n",
       "      <td>8865</td>\n",
       "      <td>9.11</td>\n",
       "      <td>56.8</td>\n",
       "      <td>1175</td>\n",
       "    </tr>\n",
       "    <tr>\n",
       "      <th>4</th>\n",
       "      <td>14.62</td>\n",
       "      <td>8403</td>\n",
       "      <td>11.68</td>\n",
       "      <td>73.5</td>\n",
       "      <td>2111</td>\n",
       "    </tr>\n",
       "  </tbody>\n",
       "</table>\n",
       "</div>"
      ],
      "text/plain": [
       "   education  income  women  prestige  census\n",
       "0      13.11   12351  11.16      68.8    1113\n",
       "1      12.26   25879   4.02      69.1    1130\n",
       "2      12.77    9271  15.70      63.4    1171\n",
       "3      11.42    8865   9.11      56.8    1175\n",
       "4      14.62    8403  11.68      73.5    2111"
      ]
     },
     "execution_count": 52,
     "metadata": {},
     "output_type": "execute_result"
    }
   ],
   "source": [
    "df = df.drop(columns=['Unnamed: 0','type'])\n",
    "df.head()"
   ]
  },
  {
   "cell_type": "code",
   "execution_count": 59,
   "id": "f98e9fef-5794-4ae1-a548-c7c7f7815a3d",
   "metadata": {},
   "outputs": [
    {
     "data": {
      "text/plain": [
       "array([ 4.65715805e+00,  1.28922425e-03, -2.08682032e-03,  5.68420955e-04])"
      ]
     },
     "execution_count": 59,
     "metadata": {},
     "output_type": "execute_result"
    }
   ],
   "source": [
    "Y = df['prestige'].to_numpy()\n",
    "X = df.drop(columns=['prestige']).to_numpy()\n",
    "model0 = LinearRegression()\n",
    "model0.fit(X, Y)\n",
    "model0.coef_"
   ]
  },
  {
   "cell_type": "markdown",
   "id": "29a8d6aa-ba68-4be7-b1b6-78348922129a",
   "metadata": {},
   "source": [
    "$\\beta_{0,1}=4.65715805$"
   ]
  },
  {
   "cell_type": "markdown",
   "id": "08f71bc9-c514-4352-bbd1-75b06b576fc7",
   "metadata": {},
   "source": [
    "i. Realiza la regresión de $Y$ usando las variables $X_2 , ..., X_m$ , obteniendo los residuos $E_{Y|X_2 ,...,X_m}$ ."
   ]
  },
  {
   "cell_type": "code",
   "execution_count": 53,
   "id": "0d82b75a-c801-45fd-89a4-ef5488ceab02",
   "metadata": {},
   "outputs": [
    {
     "data": {
      "text/plain": [
       "array([ 0.00237824,  0.02549987, -0.00267957])"
      ]
     },
     "execution_count": 53,
     "metadata": {},
     "output_type": "execute_result"
    }
   ],
   "source": [
    "Y = df['prestige'].to_numpy()\n",
    "X = df.drop(columns=['education', 'prestige']).to_numpy()\n",
    "model1 = LinearRegression()\n",
    "model1.fit(X, Y)\n",
    "model1.coef_"
   ]
  },
  {
   "cell_type": "code",
   "execution_count": 54,
   "id": "f998175b-096b-4c64-bc89-6b448eb901d1",
   "metadata": {},
   "outputs": [],
   "source": [
    "Y_pred = model1.predict(X)\n",
    "EYX2Xm = (Y - Y_pred).reshape(-1, 1)"
   ]
  },
  {
   "cell_type": "markdown",
   "id": "764e6758-0b8d-495c-b417-4d1a47e2c838",
   "metadata": {},
   "source": [
    "ii. Realiza la regresión de $X_1$ usando las variables $X_2, ..., X_m$ , obteniendo los residuos $E_{X_1|X_2,...,X_m}$."
   ]
  },
  {
   "cell_type": "code",
   "execution_count": null,
   "id": "9f261431-c91e-4971-b5d4-880290e995a1",
   "metadata": {},
   "outputs": [],
   "source": [
    "X1 = df['education'].to_numpy()\n",
    "X = df.drop(columns=['prestige', 'education']).to_numpy()\n",
    "model2 = LinearRegression()\n",
    "model2.fit(X, X1)\n",
    "model2.coef_"
   ]
  },
  {
   "cell_type": "code",
   "execution_count": 56,
   "id": "e00b58e7-5c89-4b54-ae0e-b3d0e8ae7966",
   "metadata": {},
   "outputs": [],
   "source": [
    "X1_pred = model2.predict(X)\n",
    "EX1X2Xm = (X1 - X1_pred).reshape(-1, 1)"
   ]
  },
  {
   "cell_type": "markdown",
   "id": "0d9019bf-c8f9-4fdf-b4bc-64abbda8a30a",
   "metadata": {},
   "source": [
    "iii. Realiza la regresión de la variable formada por los residuos $E_{Y|X_2,...,X_m}$ usando la variable $E_{X_1|X_2,...,X_m}$. La pendiente de esta regresión es exactamente $β_{0,1}$."
   ]
  },
  {
   "cell_type": "code",
   "execution_count": 57,
   "id": "4067f8ed-f2be-421c-ad2a-bdd17c5560bd",
   "metadata": {},
   "outputs": [
    {
     "data": {
      "text/plain": [
       "array([[4.65715805]])"
      ]
     },
     "execution_count": 57,
     "metadata": {},
     "output_type": "execute_result"
    }
   ],
   "source": [
    "model3 = LinearRegression()\n",
    "model3.fit(EX1X2Xm, EYX2Xm)\n",
    "model3.coef_"
   ]
  },
  {
   "cell_type": "markdown",
   "id": "f497d2f0-c711-48b6-8ffe-61e84598675f",
   "metadata": {},
   "source": [
    "$pendiente=4.65715805$"
   ]
  },
  {
   "cell_type": "markdown",
   "id": "5a683908-6a54-46de-bf08-08b73390822b",
   "metadata": {},
   "source": [
    "(a) $\\beta_{0,1}=pendiente$"
   ]
  },
  {
   "cell_type": "code",
   "execution_count": 60,
   "id": "dcca3e4b-4469-409e-a4ca-4c2bbdbd30aa",
   "metadata": {},
   "outputs": [
    {
     "data": {
      "text/plain": [
       "array([-3.50520587e-15])"
      ]
     },
     "execution_count": 60,
     "metadata": {},
     "output_type": "execute_result"
    }
   ],
   "source": [
    "model3.intercept_"
   ]
  },
  {
   "cell_type": "markdown",
   "id": "1933be80-950d-4231-9592-0a0beb5ef4b3",
   "metadata": {},
   "source": [
    "$intercepto=-3.50520587\\times 10^{-15}$"
   ]
  },
  {
   "cell_type": "markdown",
   "id": "d564efc0-900b-460b-b9ca-92c10bbd6232",
   "metadata": {},
   "source": [
    "(b) claramente $intercepto \\approx 0$, en clase vimos que para cualquier regresión lineal, $\\overline{E} = \\frac{1}{N} \\sum_{i=1}^N y_i - \\hat{y}_i = 0$ y sabemos que\n",
    "\n",
    "$intercepto = \\overline{EYX2Xm} - pendiente*\\overline{EX1X2Xm}$\n"
   ]
  },
  {
   "cell_type": "markdown",
   "id": "df587384-8791-4e93-9209-d90678caf160",
   "metadata": {},
   "source": [
    "# 2."
   ]
  },
  {
   "cell_type": "code",
   "execution_count": 73,
   "id": "2aa74cb8-9a7e-46d7-86d0-104343c2e2c0",
   "metadata": {},
   "outputs": [
    {
     "data": {
      "text/plain": [
       "array([[1.        , 0.62048791],\n",
       "       [0.62048791, 1.        ]])"
      ]
     },
     "execution_count": 73,
     "metadata": {},
     "output_type": "execute_result"
    }
   ],
   "source": [
    "np.corrcoef(EX1X2Xm.flatten(), EYX2Xm.flatten())"
   ]
  },
  {
   "cell_type": "markdown",
   "id": "19cb391c-1de6-4e5a-b154-ed30e6f29ddc",
   "metadata": {},
   "source": [
    "(a) $corr=0.62048791$"
   ]
  },
  {
   "cell_type": "markdown",
   "id": "0b94edf5-f922-4808-aeee-c2ef0439c480",
   "metadata": {},
   "source": [
    "(b) $(\\Rightarrow)$ Si $\\beta_{0,1}=0$, por el el inciso (b) del ejercicio anterior $pendiente=0$, entonces $0=\\frac{\\sum_{i=1}^N (E_{i, X_1|X_2,\\dots, X_m} - \\overline{E}_{X_1|X_2,\\dots, X_m})(E_{i, Y|X_2,\\dots, X_m} - \\overline{E}_{Y|X_2,\\dots, X_m})}{\\sum_{i=1}^N (E_{i, X_1|X_2,\\dots, X_m} - \\overline{E}_{X_1|X_2,\\dots, X_m})^2}$. Por lo tanto, $\\sum_{i=1}^N (E_{i, X_1|X_2,\\dots, X_m} - \\overline{E}_{X_1|X_2,\\dots, X_m})(E_{i, Y|X_2,\\dots, X_m} - \\overline{E}_{Y|X_2,\\dots, X_m})=0$ y así $corr=\\frac{\\sum_{i=1}^N(E_{i, X_1|X_2,\\dots, X_m} - \\overline{E}_{X_1|X_2,\\dots, X_m})(E_{i, Y|X_2,\\dots, X_m} - \\overline{E}_{Y|X_2,\\dots, X_m})}{\\sqrt{\\sum_{i=1}^N(E_{i, X_1|X_2,\\dots, X_m} - \\overline{E}_{X_1|X_2,\\dots, X_m})^2}\\sqrt{\\sum_{i=1}^N(E_{i, Y|X_2,\\dots, X_m} - \\overline{E}_{Y|X_2,\\dots, X_m})^2}}=0$.\n",
    "\n",
    "El regreso es análogo."
   ]
  },
  {
   "cell_type": "markdown",
   "id": "09b2994e-8c34-46a6-802f-000dff75c647",
   "metadata": {},
   "source": [
    "# 3."
   ]
  },
  {
   "cell_type": "code",
   "execution_count": 76,
   "id": "6c9ef067-03bb-4106-9fc2-d387a37ed49a",
   "metadata": {},
   "outputs": [
    {
     "data": {
      "text/html": [
       "<div>\n",
       "<style scoped>\n",
       "    .dataframe tbody tr th:only-of-type {\n",
       "        vertical-align: middle;\n",
       "    }\n",
       "\n",
       "    .dataframe tbody tr th {\n",
       "        vertical-align: top;\n",
       "    }\n",
       "\n",
       "    .dataframe thead th {\n",
       "        text-align: right;\n",
       "    }\n",
       "</style>\n",
       "<table border=\"1\" class=\"dataframe\">\n",
       "  <thead>\n",
       "    <tr style=\"text-align: right;\">\n",
       "      <th></th>\n",
       "      <th>R&amp;D Spend</th>\n",
       "      <th>Administration</th>\n",
       "      <th>Marketing Spend</th>\n",
       "      <th>State</th>\n",
       "      <th>Profit</th>\n",
       "    </tr>\n",
       "  </thead>\n",
       "  <tbody>\n",
       "    <tr>\n",
       "      <th>0</th>\n",
       "      <td>165349.20</td>\n",
       "      <td>136897.80</td>\n",
       "      <td>471784.10</td>\n",
       "      <td>New York</td>\n",
       "      <td>192261.83</td>\n",
       "    </tr>\n",
       "    <tr>\n",
       "      <th>1</th>\n",
       "      <td>162597.70</td>\n",
       "      <td>151377.59</td>\n",
       "      <td>443898.53</td>\n",
       "      <td>California</td>\n",
       "      <td>191792.06</td>\n",
       "    </tr>\n",
       "    <tr>\n",
       "      <th>2</th>\n",
       "      <td>153441.51</td>\n",
       "      <td>101145.55</td>\n",
       "      <td>407934.54</td>\n",
       "      <td>Florida</td>\n",
       "      <td>191050.39</td>\n",
       "    </tr>\n",
       "    <tr>\n",
       "      <th>3</th>\n",
       "      <td>144372.41</td>\n",
       "      <td>118671.85</td>\n",
       "      <td>383199.62</td>\n",
       "      <td>New York</td>\n",
       "      <td>182901.99</td>\n",
       "    </tr>\n",
       "    <tr>\n",
       "      <th>4</th>\n",
       "      <td>142107.34</td>\n",
       "      <td>91391.77</td>\n",
       "      <td>366168.42</td>\n",
       "      <td>Florida</td>\n",
       "      <td>166187.94</td>\n",
       "    </tr>\n",
       "  </tbody>\n",
       "</table>\n",
       "</div>"
      ],
      "text/plain": [
       "   R&D Spend  Administration  Marketing Spend       State     Profit\n",
       "0  165349.20       136897.80        471784.10    New York  192261.83\n",
       "1  162597.70       151377.59        443898.53  California  191792.06\n",
       "2  153441.51       101145.55        407934.54     Florida  191050.39\n",
       "3  144372.41       118671.85        383199.62    New York  182901.99\n",
       "4  142107.34        91391.77        366168.42     Florida  166187.94"
      ]
     },
     "execution_count": 76,
     "metadata": {},
     "output_type": "execute_result"
    }
   ],
   "source": [
    "df = pd.read_csv('./50_Startups.csv')\n",
    "df.head()"
   ]
  },
  {
   "cell_type": "code",
   "execution_count": 78,
   "id": "b94345c0-0766-47ee-af4d-4fb952f000e1",
   "metadata": {},
   "outputs": [
    {
     "data": {
      "text/html": [
       "<div>\n",
       "<style scoped>\n",
       "    .dataframe tbody tr th:only-of-type {\n",
       "        vertical-align: middle;\n",
       "    }\n",
       "\n",
       "    .dataframe tbody tr th {\n",
       "        vertical-align: top;\n",
       "    }\n",
       "\n",
       "    .dataframe thead th {\n",
       "        text-align: right;\n",
       "    }\n",
       "</style>\n",
       "<table border=\"1\" class=\"dataframe\">\n",
       "  <thead>\n",
       "    <tr style=\"text-align: right;\">\n",
       "      <th></th>\n",
       "      <th>R&amp;D Spend</th>\n",
       "      <th>Administration</th>\n",
       "      <th>Marketing Spend</th>\n",
       "      <th>Profit</th>\n",
       "    </tr>\n",
       "  </thead>\n",
       "  <tbody>\n",
       "    <tr>\n",
       "      <th>0</th>\n",
       "      <td>165349.20</td>\n",
       "      <td>136897.80</td>\n",
       "      <td>471784.10</td>\n",
       "      <td>192261.83</td>\n",
       "    </tr>\n",
       "    <tr>\n",
       "      <th>1</th>\n",
       "      <td>162597.70</td>\n",
       "      <td>151377.59</td>\n",
       "      <td>443898.53</td>\n",
       "      <td>191792.06</td>\n",
       "    </tr>\n",
       "    <tr>\n",
       "      <th>2</th>\n",
       "      <td>153441.51</td>\n",
       "      <td>101145.55</td>\n",
       "      <td>407934.54</td>\n",
       "      <td>191050.39</td>\n",
       "    </tr>\n",
       "    <tr>\n",
       "      <th>3</th>\n",
       "      <td>144372.41</td>\n",
       "      <td>118671.85</td>\n",
       "      <td>383199.62</td>\n",
       "      <td>182901.99</td>\n",
       "    </tr>\n",
       "    <tr>\n",
       "      <th>4</th>\n",
       "      <td>142107.34</td>\n",
       "      <td>91391.77</td>\n",
       "      <td>366168.42</td>\n",
       "      <td>166187.94</td>\n",
       "    </tr>\n",
       "  </tbody>\n",
       "</table>\n",
       "</div>"
      ],
      "text/plain": [
       "   R&D Spend  Administration  Marketing Spend     Profit\n",
       "0  165349.20       136897.80        471784.10  192261.83\n",
       "1  162597.70       151377.59        443898.53  191792.06\n",
       "2  153441.51       101145.55        407934.54  191050.39\n",
       "3  144372.41       118671.85        383199.62  182901.99\n",
       "4  142107.34        91391.77        366168.42  166187.94"
      ]
     },
     "execution_count": 78,
     "metadata": {},
     "output_type": "execute_result"
    }
   ],
   "source": [
    "df = df.drop(columns=['State'])\n",
    "df.head()"
   ]
  },
  {
   "cell_type": "markdown",
   "id": "fc68272a-9f43-43a0-943c-da3ff548ab12",
   "metadata": {},
   "source": [
    "(a) Las variables independientes son *R&D Spend*, *Administration*, *Marketing Spend* y la variable dependiente es *Profit*"
   ]
  },
  {
   "cell_type": "code",
   "execution_count": 79,
   "id": "f4a48b22-d9ab-4f62-a474-f092099c996f",
   "metadata": {},
   "outputs": [
    {
     "data": {
      "text/html": [
       "<div>\n",
       "<style scoped>\n",
       "    .dataframe tbody tr th:only-of-type {\n",
       "        vertical-align: middle;\n",
       "    }\n",
       "\n",
       "    .dataframe tbody tr th {\n",
       "        vertical-align: top;\n",
       "    }\n",
       "\n",
       "    .dataframe thead th {\n",
       "        text-align: right;\n",
       "    }\n",
       "</style>\n",
       "<table border=\"1\" class=\"dataframe\">\n",
       "  <thead>\n",
       "    <tr style=\"text-align: right;\">\n",
       "      <th></th>\n",
       "      <th>R&amp;D Spend</th>\n",
       "      <th>Administration</th>\n",
       "      <th>Marketing Spend</th>\n",
       "      <th>Profit</th>\n",
       "    </tr>\n",
       "  </thead>\n",
       "  <tbody>\n",
       "    <tr>\n",
       "      <th>R&amp;D Spend</th>\n",
       "      <td>1.000000</td>\n",
       "      <td>0.241955</td>\n",
       "      <td>0.724248</td>\n",
       "      <td>0.972900</td>\n",
       "    </tr>\n",
       "    <tr>\n",
       "      <th>Administration</th>\n",
       "      <td>0.241955</td>\n",
       "      <td>1.000000</td>\n",
       "      <td>-0.032154</td>\n",
       "      <td>0.200717</td>\n",
       "    </tr>\n",
       "    <tr>\n",
       "      <th>Marketing Spend</th>\n",
       "      <td>0.724248</td>\n",
       "      <td>-0.032154</td>\n",
       "      <td>1.000000</td>\n",
       "      <td>0.747766</td>\n",
       "    </tr>\n",
       "    <tr>\n",
       "      <th>Profit</th>\n",
       "      <td>0.972900</td>\n",
       "      <td>0.200717</td>\n",
       "      <td>0.747766</td>\n",
       "      <td>1.000000</td>\n",
       "    </tr>\n",
       "  </tbody>\n",
       "</table>\n",
       "</div>"
      ],
      "text/plain": [
       "                 R&D Spend  Administration  Marketing Spend    Profit\n",
       "R&D Spend         1.000000        0.241955         0.724248  0.972900\n",
       "Administration    0.241955        1.000000        -0.032154  0.200717\n",
       "Marketing Spend   0.724248       -0.032154         1.000000  0.747766\n",
       "Profit            0.972900        0.200717         0.747766  1.000000"
      ]
     },
     "execution_count": 79,
     "metadata": {},
     "output_type": "execute_result"
    }
   ],
   "source": [
    "df.corr()"
   ]
  },
  {
   "cell_type": "markdown",
   "id": "0ff6b513-9fb7-4dbf-92f3-58bc23905ca6",
   "metadata": {},
   "source": [
    "(b) La correlación entre *Marketing Spend* y *R&D Spend* podría considerarse alta, por lo que podríamos optar por eliminar una de ellas. Claramente *R&D Spend* está mas correlacionada con la variable dependiente que *Marketing Spend*"
   ]
  },
  {
   "cell_type": "code",
   "execution_count": 80,
   "id": "0c9b62f5-e883-4bf2-9226-f1e8dbbb69c6",
   "metadata": {},
   "outputs": [],
   "source": [
    "df = df.drop(columns=['Marketing Spend'])"
   ]
  },
  {
   "cell_type": "code",
   "execution_count": 92,
   "id": "369f2693-32c6-4aec-ad2a-b7f4ef73825e",
   "metadata": {},
   "outputs": [
    {
     "data": {
      "text/html": [
       "<div>\n",
       "<style scoped>\n",
       "    .dataframe tbody tr th:only-of-type {\n",
       "        vertical-align: middle;\n",
       "    }\n",
       "\n",
       "    .dataframe tbody tr th {\n",
       "        vertical-align: top;\n",
       "    }\n",
       "\n",
       "    .dataframe thead th {\n",
       "        text-align: right;\n",
       "    }\n",
       "</style>\n",
       "<table border=\"1\" class=\"dataframe\">\n",
       "  <thead>\n",
       "    <tr style=\"text-align: right;\">\n",
       "      <th></th>\n",
       "      <th>R&amp;D Spend</th>\n",
       "      <th>Administration</th>\n",
       "      <th>Profit</th>\n",
       "    </tr>\n",
       "  </thead>\n",
       "  <tbody>\n",
       "    <tr>\n",
       "      <th>R&amp;D Spend</th>\n",
       "      <td>1.000000</td>\n",
       "      <td>0.241955</td>\n",
       "      <td>0.972900</td>\n",
       "    </tr>\n",
       "    <tr>\n",
       "      <th>Administration</th>\n",
       "      <td>0.241955</td>\n",
       "      <td>1.000000</td>\n",
       "      <td>0.200717</td>\n",
       "    </tr>\n",
       "    <tr>\n",
       "      <th>Profit</th>\n",
       "      <td>0.972900</td>\n",
       "      <td>0.200717</td>\n",
       "      <td>1.000000</td>\n",
       "    </tr>\n",
       "  </tbody>\n",
       "</table>\n",
       "</div>"
      ],
      "text/plain": [
       "                R&D Spend  Administration    Profit\n",
       "R&D Spend        1.000000        0.241955  0.972900\n",
       "Administration   0.241955        1.000000  0.200717\n",
       "Profit           0.972900        0.200717  1.000000"
      ]
     },
     "execution_count": 92,
     "metadata": {},
     "output_type": "execute_result"
    }
   ],
   "source": [
    "df.corr()"
   ]
  },
  {
   "cell_type": "markdown",
   "id": "3ab00a15-9ea2-4fbb-b1af-337e69f13aad",
   "metadata": {},
   "source": [
    "(c)"
   ]
  },
  {
   "cell_type": "code",
   "execution_count": 83,
   "id": "d2585f72-a58f-4318-9d36-b978ebeaf3ba",
   "metadata": {},
   "outputs": [],
   "source": [
    "X = df.drop(columns=['Profit'])\n",
    "Y = df['Profit']\n",
    "\n",
    "X_train, X_test, Y_train, Y_test = train_test_split(X, Y, test_size=0.2, random_state=0)"
   ]
  },
  {
   "cell_type": "code",
   "execution_count": 90,
   "id": "64c74057-54e9-44fc-867a-00d4b15f0df5",
   "metadata": {},
   "outputs": [
    {
     "name": "stdout",
     "output_type": "stream",
     "text": [
      "0.9469407189577183\n"
     ]
    }
   ],
   "source": [
    "model = LinearRegression()\n",
    "model.fit(X_train, Y_train)\n",
    "Y_pred = model.predict(X_test)\n",
    "r2 = r2_score(Y_test, Y_pred)\n",
    "print(r2)"
   ]
  },
  {
   "cell_type": "markdown",
   "id": "9080c674-a748-4012-b9b8-69d310e6b065",
   "metadata": {},
   "source": [
    "(d) $R^2=0.9469407189577183$ "
   ]
  },
  {
   "cell_type": "code",
   "execution_count": null,
   "id": "2a80299f-ac78-4f57-8118-70d38f5d9288",
   "metadata": {},
   "outputs": [],
   "source": []
  }
 ],
 "metadata": {
  "kernelspec": {
   "display_name": "Python 3 (ipykernel)",
   "language": "python",
   "name": "python3"
  },
  "language_info": {
   "codemirror_mode": {
    "name": "ipython",
    "version": 3
   },
   "file_extension": ".py",
   "mimetype": "text/x-python",
   "name": "python",
   "nbconvert_exporter": "python",
   "pygments_lexer": "ipython3",
   "version": "3.11.10"
  }
 },
 "nbformat": 4,
 "nbformat_minor": 5
}

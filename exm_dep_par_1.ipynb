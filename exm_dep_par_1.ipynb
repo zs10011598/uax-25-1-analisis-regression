{
 "cells": [
  {
   "cell_type": "code",
   "execution_count": 42,
   "id": "426b933b-9b1b-498e-bdb0-fb0079963573",
   "metadata": {},
   "outputs": [],
   "source": [
    "import numpy as np\n",
    "import statsmodels.api as sm\n",
    "from sklearn.linear_model import LinearRegression\n",
    "import pandas as pd"
   ]
  },
  {
   "cell_type": "markdown",
   "id": "038c481b-e9d4-4d66-8a95-38cd22ef8183",
   "metadata": {},
   "source": [
    "# 1"
   ]
  },
  {
   "cell_type": "code",
   "execution_count": 27,
   "id": "8f6fe76c-b2f6-4d54-b71e-3e7e36e9d710",
   "metadata": {},
   "outputs": [],
   "source": [
    "X = np.array([10, 20, 30, 40, 50, 60, 70, 80, 90]).reshape(-1, 1)\n",
    "Y = np.array([420, 365, 285, 220, 176, 117, 69, 34, 5]).reshape(-1, 1)"
   ]
  },
  {
   "cell_type": "markdown",
   "id": "0f669ed6-fdce-4688-8c2b-8bda13b456d8",
   "metadata": {},
   "source": [
    "De la librearía scikit-learn usamos LinearRegression, por minímos cuadrados tenemos que "
   ]
  },
  {
   "cell_type": "code",
   "execution_count": 29,
   "id": "95eaaae5-1b60-4747-9064-ee3ca8c51240",
   "metadata": {},
   "outputs": [
    {
     "name": "stdout",
     "output_type": "stream",
     "text": [
      "beta_0 =  [[-5.31333333]]\n",
      "beta_1 =  [453.55555556]\n"
     ]
    }
   ],
   "source": [
    "mls = LinearRegression()\n",
    "mls.fit(X, Y)\n",
    "print(\"beta_0 = \", mls.coef_)\n",
    "print(\"beta_1 = \", mls.intercept_)"
   ]
  },
  {
   "cell_type": "markdown",
   "id": "b24b99fc-03a2-40a6-9c2e-43b21fcab9f4",
   "metadata": {},
   "source": [
    "Usando la librería statsmodels, tenemos que los intervalos de confianza son"
   ]
  },
  {
   "cell_type": "code",
   "execution_count": 30,
   "id": "3dda2f22-d682-4477-8621-688453311e2d",
   "metadata": {},
   "outputs": [
    {
     "name": "stdout",
     "output_type": "stream",
     "text": [
      "[[419.51998893 487.59112219]\n",
      " [ -5.91816122  -4.70850544]]\n"
     ]
    }
   ],
   "source": [
    "X = sm.add_constant(X) \n",
    "model = sm.OLS(Y, X).fit()\n",
    "\n",
    "intervalos_confianza = model.conf_int(alpha=0.05)  # 95% de confianza\n",
    "print(intervalos_confianza)"
   ]
  },
  {
   "cell_type": "markdown",
   "id": "47743126-91de-4a41-8f28-a041592c82d1",
   "metadata": {},
   "source": [
    "# 2"
   ]
  },
  {
   "cell_type": "code",
   "execution_count": 31,
   "id": "61ac0fb7-499b-402b-96d5-a1e7ef989c19",
   "metadata": {},
   "outputs": [],
   "source": [
    "X = np.array([2, 4, 6, 8, 10]).reshape(-1, 1)\n",
    "Y = np.array([11.5, 10.2, 10.3, 9.68, 9.32]).reshape(-1, 1)"
   ]
  },
  {
   "cell_type": "markdown",
   "id": "8e51c3b8-b3c4-44bc-86d8-5bedff2493bc",
   "metadata": {},
   "source": [
    "## (a)"
   ]
  },
  {
   "cell_type": "code",
   "execution_count": 33,
   "id": "6d88e032-11ec-4f9d-b72c-eeac1899a735",
   "metadata": {},
   "outputs": [
    {
     "name": "stdout",
     "output_type": "stream",
     "text": [
      "beta_0 =  [[-0.244]]\n",
      "beta_1 =  [11.664]\n"
     ]
    }
   ],
   "source": [
    "mls = LinearRegression()\n",
    "mls.fit(X, Y)\n",
    "print(\"beta_0 = \", mls.coef_)\n",
    "print(\"beta_1 = \", mls.intercept_)"
   ]
  },
  {
   "cell_type": "markdown",
   "id": "829835e5-3d1e-490a-ac4a-2705a713c0a5",
   "metadata": {},
   "source": [
    "Utilizando la clase LinearRegresión de la librería scikit-learn"
   ]
  },
  {
   "cell_type": "markdown",
   "id": "f490af12-d2e8-4fe6-94ab-a706866879c9",
   "metadata": {},
   "source": [
    "Obtenemos las predicciones $\\hat{y}_i$"
   ]
  },
  {
   "cell_type": "code",
   "execution_count": 34,
   "id": "6741d1b0-c2fa-41a2-9d7f-8dc5412d5c10",
   "metadata": {},
   "outputs": [
    {
     "name": "stdout",
     "output_type": "stream",
     "text": [
      "[[11.176]\n",
      " [10.688]\n",
      " [10.2  ]\n",
      " [ 9.712]\n",
      " [ 9.224]]\n"
     ]
    }
   ],
   "source": [
    "Y_pred = mls.predict(X)\n",
    "print(Y_pred)"
   ]
  },
  {
   "cell_type": "markdown",
   "id": "f0e8e0ff-a5b7-4c37-bb13-6a9ae4f707de",
   "metadata": {},
   "source": [
    "Calculando los residuos $E_i$"
   ]
  },
  {
   "cell_type": "code",
   "execution_count": 35,
   "id": "5a03d63a-a039-43f1-b4b5-6111b260934d",
   "metadata": {},
   "outputs": [
    {
     "name": "stdout",
     "output_type": "stream",
     "text": [
      "[[ 0.324]\n",
      " [-0.488]\n",
      " [ 0.1  ]\n",
      " [-0.032]\n",
      " [ 0.096]]\n"
     ]
    }
   ],
   "source": [
    "E = Y - Y_pred\n",
    "print(E)"
   ]
  },
  {
   "cell_type": "markdown",
   "id": "53a3a700-c193-4582-bc46-ecae6fded38d",
   "metadata": {},
   "source": [
    "Calculando la desviación entadar de los residuos $\\sigma$"
   ]
  },
  {
   "cell_type": "code",
   "execution_count": 36,
   "id": "af0d7ee8-1797-43c1-9867-6cecbc56ef48",
   "metadata": {},
   "outputs": [
    {
     "data": {
      "text/plain": [
       "np.float64(0.2695774471279078)"
      ]
     },
     "execution_count": 36,
     "metadata": {},
     "output_type": "execute_result"
    }
   ],
   "source": [
    "E.std()"
   ]
  },
  {
   "cell_type": "markdown",
   "id": "3264fcd2-ca1e-4cf1-83b6-aa34d8657641",
   "metadata": {},
   "source": [
    "## (b)"
   ]
  },
  {
   "cell_type": "markdown",
   "id": "b2190883-b3a3-45e2-9aca-5039e564ad53",
   "metadata": {},
   "source": [
    "En clase vimos que $R^2$ se interpreta como la fracción de la varianza de la variable dependiente que es explicada por la variable independiente. Usando la función score de la clase LinearRegresion calculamos el $R^2$."
   ]
  },
  {
   "cell_type": "code",
   "execution_count": 40,
   "id": "03647cf8-c779-45e5-a48d-d857af67400a",
   "metadata": {},
   "outputs": [
    {
     "data": {
      "text/plain": [
       "0.8676187700378899"
      ]
     },
     "execution_count": 40,
     "metadata": {},
     "output_type": "execute_result"
    }
   ],
   "source": [
    "r2 = mls.score(X, Y)\n",
    "r2"
   ]
  },
  {
   "cell_type": "markdown",
   "id": "6915c3d6-0637-4afc-94b5-b6df2bfa1970",
   "metadata": {},
   "source": [
    "# 3"
   ]
  },
  {
   "cell_type": "markdown",
   "id": "846637c4-4f9e-4291-ab45-f0111b272663",
   "metadata": {},
   "source": [
    "## (a) y (b)"
   ]
  },
  {
   "cell_type": "markdown",
   "id": "98e58620-8b09-45ac-9961-08b36eb4ce37",
   "metadata": {},
   "source": [
    "Utilizamos pandas para extraer los datos"
   ]
  },
  {
   "cell_type": "code",
   "execution_count": 46,
   "id": "8053cd6b-b8fa-47d8-87de-b87980eb8bde",
   "metadata": {},
   "outputs": [
    {
     "data": {
      "text/html": [
       "<div>\n",
       "<style scoped>\n",
       "    .dataframe tbody tr th:only-of-type {\n",
       "        vertical-align: middle;\n",
       "    }\n",
       "\n",
       "    .dataframe tbody tr th {\n",
       "        vertical-align: top;\n",
       "    }\n",
       "\n",
       "    .dataframe thead th {\n",
       "        text-align: right;\n",
       "    }\n",
       "</style>\n",
       "<table border=\"1\" class=\"dataframe\">\n",
       "  <thead>\n",
       "    <tr style=\"text-align: right;\">\n",
       "      <th></th>\n",
       "      <th>Unnamed: 0</th>\n",
       "      <th>education</th>\n",
       "      <th>income</th>\n",
       "      <th>women</th>\n",
       "      <th>prestige</th>\n",
       "      <th>census</th>\n",
       "      <th>type</th>\n",
       "    </tr>\n",
       "  </thead>\n",
       "  <tbody>\n",
       "    <tr>\n",
       "      <th>0</th>\n",
       "      <td>gov.administrators</td>\n",
       "      <td>13.11</td>\n",
       "      <td>12351</td>\n",
       "      <td>11.16</td>\n",
       "      <td>68.8</td>\n",
       "      <td>1113</td>\n",
       "      <td>prof</td>\n",
       "    </tr>\n",
       "    <tr>\n",
       "      <th>1</th>\n",
       "      <td>general.managers</td>\n",
       "      <td>12.26</td>\n",
       "      <td>25879</td>\n",
       "      <td>4.02</td>\n",
       "      <td>69.1</td>\n",
       "      <td>1130</td>\n",
       "      <td>prof</td>\n",
       "    </tr>\n",
       "    <tr>\n",
       "      <th>2</th>\n",
       "      <td>accountants</td>\n",
       "      <td>12.77</td>\n",
       "      <td>9271</td>\n",
       "      <td>15.70</td>\n",
       "      <td>63.4</td>\n",
       "      <td>1171</td>\n",
       "      <td>prof</td>\n",
       "    </tr>\n",
       "    <tr>\n",
       "      <th>3</th>\n",
       "      <td>purchasing.officers</td>\n",
       "      <td>11.42</td>\n",
       "      <td>8865</td>\n",
       "      <td>9.11</td>\n",
       "      <td>56.8</td>\n",
       "      <td>1175</td>\n",
       "      <td>prof</td>\n",
       "    </tr>\n",
       "    <tr>\n",
       "      <th>4</th>\n",
       "      <td>chemists</td>\n",
       "      <td>14.62</td>\n",
       "      <td>8403</td>\n",
       "      <td>11.68</td>\n",
       "      <td>73.5</td>\n",
       "      <td>2111</td>\n",
       "      <td>prof</td>\n",
       "    </tr>\n",
       "  </tbody>\n",
       "</table>\n",
       "</div>"
      ],
      "text/plain": [
       "            Unnamed: 0  education  income  women  prestige  census  type\n",
       "0   gov.administrators      13.11   12351  11.16      68.8    1113  prof\n",
       "1     general.managers      12.26   25879   4.02      69.1    1130  prof\n",
       "2          accountants      12.77    9271  15.70      63.4    1171  prof\n",
       "3  purchasing.officers      11.42    8865   9.11      56.8    1175  prof\n",
       "4             chemists      14.62    8403  11.68      73.5    2111  prof"
      ]
     },
     "execution_count": 46,
     "metadata": {},
     "output_type": "execute_result"
    }
   ],
   "source": [
    "df = pd.read_csv('./Prestige.csv')\n",
    "df.head()"
   ]
  },
  {
   "cell_type": "markdown",
   "id": "052a8b4c-6d0b-4aa5-9624-976ca01ebf03",
   "metadata": {},
   "source": [
    "Usamos la función describe para saber con que columnas se puede calcular la regresión"
   ]
  },
  {
   "cell_type": "code",
   "execution_count": 47,
   "id": "de27e5ae-7193-43d7-ac95-7c5d6515041e",
   "metadata": {},
   "outputs": [
    {
     "data": {
      "text/html": [
       "<div>\n",
       "<style scoped>\n",
       "    .dataframe tbody tr th:only-of-type {\n",
       "        vertical-align: middle;\n",
       "    }\n",
       "\n",
       "    .dataframe tbody tr th {\n",
       "        vertical-align: top;\n",
       "    }\n",
       "\n",
       "    .dataframe thead th {\n",
       "        text-align: right;\n",
       "    }\n",
       "</style>\n",
       "<table border=\"1\" class=\"dataframe\">\n",
       "  <thead>\n",
       "    <tr style=\"text-align: right;\">\n",
       "      <th></th>\n",
       "      <th>education</th>\n",
       "      <th>income</th>\n",
       "      <th>women</th>\n",
       "      <th>prestige</th>\n",
       "      <th>census</th>\n",
       "    </tr>\n",
       "  </thead>\n",
       "  <tbody>\n",
       "    <tr>\n",
       "      <th>count</th>\n",
       "      <td>102.000000</td>\n",
       "      <td>102.000000</td>\n",
       "      <td>102.000000</td>\n",
       "      <td>102.000000</td>\n",
       "      <td>102.000000</td>\n",
       "    </tr>\n",
       "    <tr>\n",
       "      <th>mean</th>\n",
       "      <td>10.738039</td>\n",
       "      <td>6797.901961</td>\n",
       "      <td>28.979020</td>\n",
       "      <td>46.833333</td>\n",
       "      <td>5401.774510</td>\n",
       "    </tr>\n",
       "    <tr>\n",
       "      <th>std</th>\n",
       "      <td>2.728444</td>\n",
       "      <td>4245.922227</td>\n",
       "      <td>31.724931</td>\n",
       "      <td>17.204486</td>\n",
       "      <td>2644.993215</td>\n",
       "    </tr>\n",
       "    <tr>\n",
       "      <th>min</th>\n",
       "      <td>6.380000</td>\n",
       "      <td>611.000000</td>\n",
       "      <td>0.000000</td>\n",
       "      <td>14.800000</td>\n",
       "      <td>1113.000000</td>\n",
       "    </tr>\n",
       "    <tr>\n",
       "      <th>25%</th>\n",
       "      <td>8.445000</td>\n",
       "      <td>4106.000000</td>\n",
       "      <td>3.592500</td>\n",
       "      <td>35.225000</td>\n",
       "      <td>3120.500000</td>\n",
       "    </tr>\n",
       "    <tr>\n",
       "      <th>50%</th>\n",
       "      <td>10.540000</td>\n",
       "      <td>5930.500000</td>\n",
       "      <td>13.600000</td>\n",
       "      <td>43.600000</td>\n",
       "      <td>5135.000000</td>\n",
       "    </tr>\n",
       "    <tr>\n",
       "      <th>75%</th>\n",
       "      <td>12.647500</td>\n",
       "      <td>8187.250000</td>\n",
       "      <td>52.202500</td>\n",
       "      <td>59.275000</td>\n",
       "      <td>8312.500000</td>\n",
       "    </tr>\n",
       "    <tr>\n",
       "      <th>max</th>\n",
       "      <td>15.970000</td>\n",
       "      <td>25879.000000</td>\n",
       "      <td>97.510000</td>\n",
       "      <td>87.200000</td>\n",
       "      <td>9517.000000</td>\n",
       "    </tr>\n",
       "  </tbody>\n",
       "</table>\n",
       "</div>"
      ],
      "text/plain": [
       "        education        income       women    prestige       census\n",
       "count  102.000000    102.000000  102.000000  102.000000   102.000000\n",
       "mean    10.738039   6797.901961   28.979020   46.833333  5401.774510\n",
       "std      2.728444   4245.922227   31.724931   17.204486  2644.993215\n",
       "min      6.380000    611.000000    0.000000   14.800000  1113.000000\n",
       "25%      8.445000   4106.000000    3.592500   35.225000  3120.500000\n",
       "50%     10.540000   5930.500000   13.600000   43.600000  5135.000000\n",
       "75%     12.647500   8187.250000   52.202500   59.275000  8312.500000\n",
       "max     15.970000  25879.000000   97.510000   87.200000  9517.000000"
      ]
     },
     "execution_count": 47,
     "metadata": {},
     "output_type": "execute_result"
    }
   ],
   "source": [
    "df.describe()"
   ]
  },
  {
   "cell_type": "markdown",
   "id": "f527db93-89f2-4eea-bd94-355b3a68afa1",
   "metadata": {},
   "source": [
    "Vemos que las columnas 'education', 'income', 'women', 'census' son las numéricas"
   ]
  },
  {
   "cell_type": "code",
   "execution_count": 51,
   "id": "72ffcb07-e0d4-44d2-9e47-404cf5d796df",
   "metadata": {},
   "outputs": [
    {
     "name": "stdout",
     "output_type": "stream",
     "text": [
      "education R^2 =  0.72280074071565\n",
      "income R^2 =  0.5110901032277888\n",
      "women R^2 =  0.014002980447122004\n",
      "census R^2 =  0.4026032968245885\n"
     ]
    }
   ],
   "source": [
    "Y = df['prestige'].array.reshape(-1, 1)\n",
    "for col in ['education', 'income', 'women', 'census']:\n",
    "    X = df[col].array.reshape(-1, 1)\n",
    "    mls = LinearRegression()\n",
    "    mls.fit(X, Y)\n",
    "    r2 = mls.score(X, Y)\n",
    "    print(col, 'R^2 = ', r2)"
   ]
  },
  {
   "cell_type": "markdown",
   "id": "5572029f-263b-48d1-a1ce-0cbe347472e3",
   "metadata": {},
   "source": [
    "## (b)"
   ]
  },
  {
   "cell_type": "markdown",
   "id": "f14633ce-5083-47d6-9547-a2cb741c726d",
   "metadata": {},
   "source": [
    "Al ser el $R^2$ mayor que el de todas las demás variables, la variable mas correlacionada es la de 'education'"
   ]
  },
  {
   "cell_type": "code",
   "execution_count": null,
   "id": "4a885210-4797-4632-8495-e2088b655c0e",
   "metadata": {},
   "outputs": [],
   "source": []
  }
 ],
 "metadata": {
  "kernelspec": {
   "display_name": "Python 3 (ipykernel)",
   "language": "python",
   "name": "python3"
  },
  "language_info": {
   "codemirror_mode": {
    "name": "ipython",
    "version": 3
   },
   "file_extension": ".py",
   "mimetype": "text/x-python",
   "name": "python",
   "nbconvert_exporter": "python",
   "pygments_lexer": "ipython3",
   "version": "3.11.10"
  }
 },
 "nbformat": 4,
 "nbformat_minor": 5
}
